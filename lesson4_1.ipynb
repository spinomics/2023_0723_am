{
 "cells": [
  {
   "cell_type": "code",
   "execution_count": null,
   "metadata": {},
   "outputs": [],
   "source": [
    "print(\"Hello Python!!\")"
   ]
  },
  {
   "cell_type": "code",
   "execution_count": null,
   "metadata": {},
   "outputs": [],
   "source": [
    "a=100\n",
    "b=200\n",
    "a+b"
   ]
  },
  {
   "cell_type": "code",
   "execution_count": null,
   "metadata": {},
   "outputs": [],
   "source": [
    "#請輸入梯形的上底及下底與高，程式會計算梯形面積cm^2\n",
    "top=eval(input(\"請輸入上底(cm):\"))\n",
    "bottom=eval(input(\"請輸入下底(cm):\"))\n",
    "height=eval(input(\"請輸入高(cm):\"))\n",
    "print(f\"梯形的面積:{(top+bottom)*height/2:.1f}cm^2\")\n"
   ]
  },
  {
   "cell_type": "code",
   "execution_count": null,
   "metadata": {},
   "outputs": [],
   "source": [
    "#字串插補\n",
    "apple = 5\n",
    "orange =2\n",
    "f\"我有{apple}個apples和{orange}個oranges, 總共有{apple+orange}個fruits\""
   ]
  },
  {
   "cell_type": "code",
   "execution_count": null,
   "metadata": {},
   "outputs": [],
   "source": [
    "#內建的標準函式\n",
    "round(3.1415926,ndigits=3)"
   ]
  },
  {
   "cell_type": "code",
   "execution_count": null,
   "metadata": {},
   "outputs": [],
   "source": [
    "#高中數學\n",
    "import math\n",
    "side_a= eval(input(\"輸入三角形的對邊:\"))\n",
    "side_c= eval(input(\"輸入三角形的斜邊:\"))\n",
    "degree= round(math.degrees(math.asin(side_a/side_c),ndigits=2))\n",
    "print(f\"對邊:{side_a},斜邊:{side_c},對角角度為:{degree}度\")"
   ]
  },
  {
   "cell_type": "code",
   "execution_count": null,
   "metadata": {},
   "outputs": [],
   "source": [
    "#三角函數程式練習\n",
    "import math\n",
    "# 輸入對邊長度\n",
    "opposite_side = eval(input('請輸入三角形的對邊長度:'))\n",
    "# 輸入角度（單位為度）\n",
    "angle_in_degrees = eval(input('請輸入三角形的角度（單位為度）:'))\n",
    "# 檢查角度是否超過90度\n",
    "while angle_in_degrees > 90:\n",
    "    print(\"角度不能超過90度,請重新輸入。\")\n",
    "    angle_in_degrees = eval(input('請輸入三角形的角度（單位為度）:'))\n",
    "# 將角度轉換為弧度\n",
    "angle_in_radians = math.radians(angle_in_degrees)\n",
    "# 計算sin值\n",
    "sin_value = math.sin(angle_in_radians)\n",
    "print(f\"對邊為：{opposite_side}, 角度為：{angle_in_degrees}度,則sin(角度)為：{sin_value}\")"
   ]
  },
  {
   "cell_type": "code",
   "execution_count": null,
   "metadata": {},
   "outputs": [],
   "source": [
    "import math\n",
    "# 輸入對邊長度\n",
    "opposite_side = float(input('請輸入三角形的對邊長度:'))\n",
    "# 輸入鄰邊長度\n",
    "adjacent_side = float(input('請輸入三角形的鄰邊長度:'))\n",
    "# 利用畢氏定理計算斜邊長度\n",
    "hypotenuse = math.sqrt(opposite_side ** 2 + adjacent_side ** 2)\n",
    "print(f\"對邊為：{opposite_side}，鄰邊為：{adjacent_side}，則斜邊長度為：{hypotenuse:.2f}\")\n"
   ]
  },
  {
   "cell_type": "code",
   "execution_count": null,
   "metadata": {},
   "outputs": [],
   "source": [
    "#三角函數練習\n",
    "import math\n",
    "side_b=eval(input(\"三角形的鄰邊為:\"))\n",
    "side_c=eval(input(\"三角形的斜邊為:\"))\n",
    "cos=math.cos(side_b/side_c)\n",
    "angle_in_degrees=math.degrees(math.acos(cos))\n",
    "print(f\"對邊為{side_b},斜邊為{side_c},則cos(theta)為{cos:.2f},鄰角為{angle_in_degrees:.2f}\")\n"
   ]
  },
  {
   "cell_type": "code",
   "execution_count": null,
   "metadata": {},
   "outputs": [],
   "source": [
    "import sympy\n",
    "import numpy"
   ]
  }
 ],
 "metadata": {
  "kernelspec": {
   "display_name": "Python 3",
   "language": "python",
   "name": "python3"
  },
  "language_info": {
   "codemirror_mode": {
    "name": "ipython",
    "version": 3
   },
   "file_extension": ".py",
   "mimetype": "text/x-python",
   "name": "python",
   "nbconvert_exporter": "python",
   "pygments_lexer": "ipython3",
   "version": "3.10.12"
  },
  "orig_nbformat": 4
 },
 "nbformat": 4,
 "nbformat_minor": 2
}
