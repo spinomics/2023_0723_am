{
 "cells": [
  {
   "cell_type": "code",
   "execution_count": null,
   "metadata": {},
   "outputs": [],
   "source": [
    "#比較運算子\n",
    "5 == 5\n",
    "True"
   ]
  },
  {
   "cell_type": "code",
   "execution_count": null,
   "metadata": {},
   "outputs": [],
   "source": [
    "#傳出布林值\n",
    "5 != 5\n",
    "False"
   ]
  },
  {
   "cell_type": "code",
   "execution_count": null,
   "metadata": {},
   "outputs": [],
   "source": [
    "學生總分為300\n",
    "#檢查輸入超過300,印出錯誤訊息\n",
    "#有些學生可以加分5%\n",
    "##如果加分超過300,就以300分為準\n",
    "try:\n",
    "    score = int(input(\"請輸入學生分數(最高300分):\"))\n",
    "    if score <= 300:\n",
    "        is_add = input(\"學生是否符合加分條件?(y,n)\")\n",
    "\n",
    "        if(is_add == 'y'):\n",
    "            score *= 1.05\n",
    "            if score > 300:\n",
    "                score = 300\n",
    "\n",
    "        print(f\"學生總分為{round(score)}\")\n",
    "    else:\n",
    "        print(\"輸入超過300分,請重新執行\")\n",
    "except:\n",
    "    print(\"輸入格式有錯誤\")"
   ]
  },
  {
   "cell_type": "code",
   "execution_count": null,
   "metadata": {},
   "outputs": [],
   "source": [
    "try:\n",
    "    score = int(input(\"請輸入學生分數(最高300分):\"))\n",
    "    print(f'分數是{score}')\n",
    "except:\n",
    "    print(\"輸入格式有錯誤\")"
   ]
  },
  {
   "cell_type": "code",
   "execution_count": null,
   "metadata": {},
   "outputs": [],
   "source": [
    "try:\n",
    "    score = int(input(\"請輸入國文分數:\"))\n",
    "    if score < 60:\n",
    "        print(\"不及格\")\n",
    "    else:\n",
    "        if score < 80:\n",
    "            print(\"普通\")\n",
    "        else:\n",
    "            print(\"優\")\n",
    "except:\n",
    "    print(\"輸入格式有錯誤\")"
   ]
  },
  {
   "cell_type": "code",
   "execution_count": null,
   "metadata": {},
   "outputs": [],
   "source": [
    "#下列為換算成績等級的程式碼，換算的規則如下：\n",
    "\n",
    "# 90(含)~100分為「優」\n",
    "# 80(含)~89分為「甲」\n",
    "# 70(含)~79分為「乙」\n",
    "# 60(含)~69分為「丙」\n",
    "# 0(含)~59分為「丁」\n",
    "\n",
    "score = int(input(\"請輸入學生分數0~100\"))\n",
    "grade = \"\"\n",
    "\n",
    "if score>=90:\n",
    "    grade = \"優\"\n",
    "else:\n",
    "    if score >= 80:\n",
    "        grade = \"甲\"\n",
    "    else:\n",
    "        if score >= 70:\n",
    "            grade = \"乙\"\n",
    "        else:\n",
    "            if score >= 60:\n",
    "                grade = \"丙\"\n",
    "            else:\n",
    "                grade = \"丁\"\n",
    "print(f\"學生等級是:{grade}\")    "
   ]
  },
  {
   "cell_type": "code",
   "execution_count": null,
   "metadata": {},
   "outputs": [],
   "source": [
    "score = int(input(\"請輸入學生分數0~100\"))\n",
    "grade = \"\"\n",
    "\n",
    "#多項選擇\n",
    "#elif=else+if 只有一個if，簡化語法\n",
    "if score>=90:\n",
    "    grade = \"優\"\n",
    "elif score >= 80:\n",
    "    grade = \"甲\"\n",
    "elif score >= 70:\n",
    "    grade = \"乙\"\n",
    "elif score >= 60:\n",
    "    grade = \"丙\"\n",
    "else:\n",
    "    grade = \"丁\"\n",
    "print(f\"學生等級是:{grade}\") "
   ]
  },
  {
   "cell_type": "code",
   "execution_count": null,
   "metadata": {},
   "outputs": [],
   "source": [
    "# 如果x不是負數，則傳回值為 x ** (1 / y)。\n",
    "# 如果x是負數而且為偶數，則傳回值為0。\n",
    "# 如果x是負數而且為奇數，則傳回值為 -(-x) ** (1 / y)。\n",
    "\n",
    "try:\n",
    "    x = int(input(\"請輸入x的整數:\"))\n",
    "except:\n",
    "    print(\"輸入x的格式錯誤\")\n",
    "else:\n",
    "    try:\n",
    "        y = int(input(\"請輸入y的整數(y不可以是0):\"))\n",
    "        root = 0\n",
    "        if x >= 0:\n",
    "            root = x ** (1/y)\n",
    "        elif x % 2 == 0:    \n",
    "            root = 0\n",
    "        else:\n",
    "            root = -(-x) ** (1 / y) \n",
    "\n",
    "        print(f\"root={root}\")\n",
    "    except:\n",
    "        print(\"輸入y的格式錯誤\")    \n"
   ]
  },
  {
   "cell_type": "code",
   "execution_count": null,
   "metadata": {},
   "outputs": [],
   "source": [
    "#輸入顧客購買金額，若金額在\n",
    "#100000元打8折. \n",
    "#50000打85折. \n",
    "#30000打9折. \n",
    "#10000打95折. \n",
    "\n",
    "#請輸入購買金額:130000\n",
    "#實付金額是: 104000.0 元\n",
    "\n",
    "import math\n",
    "money = int(input(\"請輸入購買金額:\"))\n",
    "pay_money = 0\n",
    "if money < 10000:\n",
    "    pay_money = money\n",
    "elif money < 30000:\n",
    "    pay_money = money *0.95\n",
    "elif money <50000:\n",
    "    pay_money = money *0.9\n",
    "elif money <100000:\n",
    "    pay_money = money *0.85\n",
    "else: \n",
    "    pay_money = money *0.8\n",
    "\n",
    "print(f\"實付金額是:{math.ceil(pay_money):.1f}元\")\n"
   ]
  },
  {
   "cell_type": "code",
   "execution_count": null,
   "metadata": {},
   "outputs": [],
   "source": [
    "\n",
    "\n",
    "Chinese = int(input(\"請輸入國文分數\"))\n",
    "math = int(input(\"請輸入數學分數\"))\n",
    "bonus = 0\n",
    "\n",
    "if Chinese ==100:\n",
    "    if math ==100:\n",
    "        bonus = 1000\n",
    "    else:\n",
    "        bonus = 500\n",
    "elif math == 100:\n",
    "        bonus = 500\n",
    "        \n",
    "print(f\"學生獎金:{bonus}元\")\n",
    "\n"
   ]
  },
  {
   "cell_type": "code",
   "execution_count": null,
   "metadata": {},
   "outputs": [],
   "source": [
    "#國文100分,同時數學100,獎金1000\n",
    "#國文100分,或者數學100,獎金500\n",
    "#其餘獎金0\n",
    "\n",
    "Chinese = int(input(\"請輸入國文分數\"))\n",
    "math = int(input(\"請輸入數學分數\"))\n",
    "bonus = 0\n",
    "\n",
    "if (Chinese ==100) and (math ==100):\n",
    "        bonus = 1000\n",
    "elif (Chinese ==100) or (math ==100):\n",
    "       bonus = 500\n",
    "        \n",
    "print(f\"學生獎金:{bonus}元\")"
   ]
  },
  {
   "cell_type": "code",
   "execution_count": null,
   "metadata": {},
   "outputs": [],
   "source": [
    "num = int(input(\"請輸入號碼:\"))\n",
    "if num <351 or num >400:\n",
    "    print(\"不在351和400之間\")\n",
    "else:\n",
    "    print(\"在351~400之間\")\n"
   ]
  },
  {
   "cell_type": "code",
   "execution_count": null,
   "metadata": {},
   "outputs": [],
   "source": [
    "height =eval(input(\"請輸入身高(cm):\"))\n",
    "weight =eval(input(\"請輸入體重(kg):\"))\n",
    "\n",
    "bmi = 0\n",
    "bmi = weight/(height/100)**2\n",
    "print(f\"您的BMI:{bmi:.2f}\")\n",
    "\n",
    "message = \"\"\n",
    "if bmi < 18.5:\n",
    "    message =\"體重過輕\"\n",
    "elif bmi<24:\n",
    "    message = \"正常範圍\"\n",
    "elif bmi<27:\n",
    "    message =\"過重\"\n",
    "elif bmi<30:\n",
    "    message =\"輕度肥胖\"\n",
    "elif bmi<35:\n",
    "    message =\"中度肥胖\"\n",
    "else:\n",
    "    message =\"重度肥胖\"\n",
    "\n",
    "print(f\"提示:{message}\")\n",
    "\n"
   ]
  },
  {
   "cell_type": "code",
   "execution_count": null,
   "metadata": {},
   "outputs": [],
   "source": [
    "height =eval(input(\"請輸入身高(cm):\"))\n",
    "weight =eval(input(\"請輸入體重(kg):\"))\n",
    "\n",
    "bmi = 0\n",
    "bmi = weight/(height/100)**2\n",
    "print(f\"您的BMI:{bmi:.2f}\")\n",
    "\n",
    "message = \"\"\n",
    "if 18.5 <= bmi<24:\n",
    "    message =\"正常範圍\"\n",
    "elif 24<= bmi <27:\n",
    "    message = \"過重\"\n",
    "elif 30 <= bmi <27:\n",
    "    message =\"中度肥胖\"\n",
    "elif bmi>=35:\n",
    "    message =\"重度肥胖\"\n",
    "elif bmi<18.5:\n",
    "    message =\"體重過輕\"\n",
    "elif 27 <= bmi<30:\n",
    "    message =\"輕度肥胖\"\n",
    "\n",
    "print(f\"提示:{message}\")\n",
    "\n"
   ]
  },
  {
   "cell_type": "code",
   "execution_count": null,
   "metadata": {},
   "outputs": [],
   "source": [
    "for x in range(3):\n",
    "        print(x)\n"
   ]
  },
  {
   "cell_type": "code",
   "execution_count": null,
   "metadata": {},
   "outputs": [],
   "source": [
    "for x in range(-10,15,5):\n",
    "    print(x)"
   ]
  },
  {
   "cell_type": "code",
   "execution_count": null,
   "metadata": {},
   "outputs": [],
   "source": [
    "#1~100的加總是多少\n",
    "total=0\n",
    "for x in range(1,101):\n",
    "    total += x\n",
    "\n",
    "print(f\"1~100的加總為:{total}\")"
   ]
  },
  {
   "cell_type": "code",
   "execution_count": null,
   "metadata": {},
   "outputs": [],
   "source": [
    "#1~100的偶數和奇數加總是多少\n",
    "total_even=0\n",
    "for x in range(2,102,2):\n",
    "    total_even += x\n",
    "total_odd=0\n",
    "for x in range(1,101,2):\n",
    "    total_odd += x\n",
    "\n",
    "print(f\"1~100偶數的加總為:{total_even}\")\n",
    "print(f\"1~100奇數的加總為:{total_odd}\")"
   ]
  },
  {
   "cell_type": "code",
   "execution_count": null,
   "metadata": {},
   "outputs": [],
   "source": [
    "#偶數和奇數加總是多少(另一種寫法)\n",
    "total_even=0\n",
    "total_odd=0\n",
    "for x in range(1,101):\n",
    "    if x %2 ==0:\n",
    "        total_even += x\n",
    "    else:\n",
    "        total_odd += x\n",
    "print(f\"1~100偶數的加總為:{total_even}\")\n",
    "print(f\"1~100奇數的加總為:{total_odd}\")\n"
   ]
  },
  {
   "cell_type": "code",
   "execution_count": 56,
   "metadata": {},
   "outputs": [
    {
     "name": "stdout",
     "output_type": "stream",
     "text": [
      "30~100偶數的加總為:2,340\n",
      "30~100奇數的加總為:2,275\n"
     ]
    }
   ],
   "source": [
    "#偶數和奇數加總是多少\n",
    "start = int(input(\"請輸入起始值\"))\n",
    "end = int(input(\"請輸入最終值\"))\n",
    "\n",
    "total_even=0\n",
    "total_odd=0\n",
    "for x in range (start,end+1):\n",
    "    if x %2 ==0:\n",
    "        total_even += x\n",
    "    else:\n",
    "        total_odd += x\n",
    "print(f\"{start}~{end}偶數的加總為:{total_even:,}\")\n",
    "print(f\"{start}~{end}奇數的加總為:{total_odd:,}\")"
   ]
  }
 ],
 "metadata": {
  "kernelspec": {
   "display_name": "Python 3",
   "language": "python",
   "name": "python3"
  },
  "language_info": {
   "codemirror_mode": {
    "name": "ipython",
    "version": 3
   },
   "file_extension": ".py",
   "mimetype": "text/x-python",
   "name": "python",
   "nbconvert_exporter": "python",
   "pygments_lexer": "ipython3",
   "version": "3.10.12"
  },
  "orig_nbformat": 4
 },
 "nbformat": 4,
 "nbformat_minor": 2
}
