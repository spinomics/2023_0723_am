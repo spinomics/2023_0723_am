{
 "cells": [
  {
   "cell_type": "code",
   "execution_count": null,
   "metadata": {},
   "outputs": [],
   "source": [
    "#比較運算子\n",
    "5 == 5\n",
    "True"
   ]
  },
  {
   "cell_type": "code",
   "execution_count": null,
   "metadata": {},
   "outputs": [],
   "source": [
    "#傳出布林值\n",
    "5 != 5\n",
    "False"
   ]
  },
  {
   "cell_type": "code",
   "execution_count": null,
   "metadata": {},
   "outputs": [],
   "source": [
    "學生總分為300\n",
    "#檢查輸入超過300,印出錯誤訊息\n",
    "#有些學生可以加分5%\n",
    "##如果加分超過300,就以300分為準\n",
    "try:\n",
    "    score = int(input(\"請輸入學生分數(最高300分):\"))\n",
    "    if score <= 300:\n",
    "        is_add = input(\"學生是否符合加分條件?(y,n)\")\n",
    "\n",
    "        if(is_add == 'y'):\n",
    "            score *= 1.05\n",
    "            if score > 300:\n",
    "                score = 300\n",
    "\n",
    "        print(f\"學生總分為{round(score)}\")\n",
    "    else:\n",
    "        print(\"輸入超過300分,請重新執行\")\n",
    "except:\n",
    "    print(\"輸入格式有錯誤\")"
   ]
  },
  {
   "cell_type": "code",
   "execution_count": null,
   "metadata": {},
   "outputs": [],
   "source": [
    "try:\n",
    "    score = int(input(\"請輸入學生分數(最高300分):\"))\n",
    "    print(f'分數是{score}')\n",
    "except:\n",
    "    print(\"輸入格式有錯誤\")"
   ]
  },
  {
   "cell_type": "code",
   "execution_count": null,
   "metadata": {},
   "outputs": [],
   "source": [
    "try:\n",
    "    score = int(input(\"請輸入國文分數:\"))\n",
    "    if score < 60:\n",
    "        print(\"不及格\")\n",
    "    else:\n",
    "        if score < 80:\n",
    "            print(\"普通\")\n",
    "        else:\n",
    "            print(\"優\")\n",
    "except:\n",
    "    print(\"輸入格式有錯誤\")"
   ]
  },
  {
   "cell_type": "code",
   "execution_count": 3,
   "metadata": {},
   "outputs": [
    {
     "name": "stdout",
     "output_type": "stream",
     "text": [
      "學生等級是:丁\n"
     ]
    }
   ],
   "source": [
    "#下列為換算成績等級的程式碼，換算的規則如下：\n",
    "\n",
    "# 90(含)~100分為「優」\n",
    "# 80(含)~89分為「甲」\n",
    "# 70(含)~79分為「乙」\n",
    "# 60(含)~69分為「丙」\n",
    "# 0(含)~59分為「丁」\n",
    "\n",
    "score = int(input(\"請輸入學生分數0~100\"))\n",
    "grade = \"\"\n",
    "\n",
    "if score>=90:\n",
    "    grade = \"優\"\n",
    "else:\n",
    "    if score >= 80:\n",
    "        grade = \"甲\"\n",
    "    else:\n",
    "        if score >= 70:\n",
    "            grade = \"乙\"\n",
    "        else:\n",
    "            if score >= 60:\n",
    "                grade = \"丙\"\n",
    "            else:\n",
    "                grade = \"丁\"\n",
    "print(f\"學生等級是:{grade}\")    "
   ]
  },
  {
   "cell_type": "code",
   "execution_count": 8,
   "metadata": {},
   "outputs": [
    {
     "name": "stdout",
     "output_type": "stream",
     "text": [
      "學生等級是:丁\n"
     ]
    }
   ],
   "source": [
    "score = int(input(\"請輸入學生分數0~100\"))\n",
    "grade = \"\"\n",
    "\n",
    "#多項選擇\n",
    "#elif=else+if 只有一個if，簡化語法\n",
    "if score>=90:\n",
    "    grade = \"優\"\n",
    "elif score >= 80:\n",
    "    grade = \"甲\"\n",
    "elif score >= 70:\n",
    "    grade = \"乙\"\n",
    "elif score >= 60:\n",
    "    grade = \"丙\"\n",
    "else:\n",
    "    grade = \"丁\"\n",
    "print(f\"學生等級是:{grade}\") "
   ]
  }
 ],
 "metadata": {
  "kernelspec": {
   "display_name": "Python 3",
   "language": "python",
   "name": "python3"
  },
  "language_info": {
   "codemirror_mode": {
    "name": "ipython",
    "version": 3
   },
   "file_extension": ".py",
   "mimetype": "text/x-python",
   "name": "python",
   "nbconvert_exporter": "python",
   "pygments_lexer": "ipython3",
   "version": "3.10.12"
  },
  "orig_nbformat": 4
 },
 "nbformat": 4,
 "nbformat_minor": 2
}
