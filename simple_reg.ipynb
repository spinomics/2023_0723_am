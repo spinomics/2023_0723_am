{
 "cells": [
  {
   "cell_type": "code",
   "execution_count": 21,
   "metadata": {},
   "outputs": [],
   "source": [
    "import numpy as np\n",
    "import tensorflow as tf\n",
    "import matplotlib.pyplot as plt\n",
    "from matplotlib.animation import FuncAnimation, PillowWriter\n",
    "from sklearn.datasets import make_regression\n",
    "\n",
    "# 生成隨機數據\n",
    "X, y = make_regression(n_samples=100, n_features=1, noise=20, bias=1)\n",
    "X = X.flatten()\n",
    "y = y.flatten()\n",
    "\n",
    "# 初始化模型參數\n",
    "w = tf.Variable(np.random.randn(), name='weight')\n",
    "b = tf.Variable(np.random.randn(), name='bias')\n",
    "\n",
    "# 模型預測函數\n",
    "def predict(X):\n",
    "    return w * X + b\n",
    "\n",
    "# 損失函數\n",
    "def loss(y_true, y_pred):\n",
    "    return tf.reduce_mean(tf.square(y_true - y_pred))\n",
    "\n",
    "# 訓練數據和圖形初始化\n",
    "fig, ax = plt.subplots()\n",
    "plt.scatter(X, y, color='blue')\n",
    "line, = ax.plot(X, predict(X), color='red', lw=2)\n",
    "\n",
    "# 更新函數\n",
    "def update(frame):\n",
    "    with tf.GradientTape() as tape:\n",
    "        y_pred = predict(X)\n",
    "        loss_value = loss(y, y_pred)\n",
    "    grads = tape.gradient(loss_value, [w, b])\n",
    "    w.assign_sub(0.1 * grads[0])\n",
    "    b.assign_sub(0.1 * grads[1])\n",
    "    line.set_ydata(predict(X))\n",
    "    return line,\n",
    "\n",
    "# 動畫\n",
    "ani = FuncAnimation(fig, update, frames=np.arange(0, 20), blit=True)\n",
    "\n",
    "# 保存動畫\n",
    "ani.save('linear_regression_animation.gif', writer=PillowWriter(fps=10))\n",
    "\n",
    "plt.close(fig)  # 避免顯示空的初始圖表\n"
   ]
  }
 ],
 "metadata": {
  "kernelspec": {
   "display_name": "Python 3",
   "language": "python",
   "name": "python3"
  },
  "language_info": {
   "codemirror_mode": {
    "name": "ipython",
    "version": 3
   },
   "file_extension": ".py",
   "mimetype": "text/x-python",
   "name": "python",
   "nbconvert_exporter": "python",
   "pygments_lexer": "ipython3",
   "version": "3.10.13"
  }
 },
 "nbformat": 4,
 "nbformat_minor": 2
}
